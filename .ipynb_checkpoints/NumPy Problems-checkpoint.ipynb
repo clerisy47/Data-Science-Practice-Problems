{
 "cells": [
  {
   "cell_type": "markdown",
   "metadata": {},
   "source": [
    "Create a 1-D array of 10 evenly spaced values between 0 and 1, and then reshape the array to a 2-D array of shape (5, 2)."
   ]
  },
  {
   "cell_type": "code",
   "execution_count": 1,
   "metadata": {},
   "outputs": [
    {
     "name": "stdout",
     "output_type": "stream",
     "text": [
      "[[0.         0.11111111]\n",
      " [0.22222222 0.33333333]\n",
      " [0.44444444 0.55555556]\n",
      " [0.66666667 0.77777778]\n",
      " [0.88888889 1.        ]]\n"
     ]
    }
   ],
   "source": [
    "import numpy as np\n",
    "array1 = np.linspace(0, 1, 10)\n",
    "array1 = array1.reshape(5, 2)\n",
    "print(array1)"
   ]
  },
  {
   "cell_type": "code",
   "execution_count": null,
   "metadata": {},
   "outputs": [],
   "source": []
  }
 ],
 "metadata": {
  "kernelspec": {
   "display_name": "Python 3 (ipykernel)",
   "language": "python",
   "name": "python3"
  },
  "language_info": {
   "codemirror_mode": {
    "name": "ipython",
    "version": 3
   },
   "file_extension": ".py",
   "mimetype": "text/x-python",
   "name": "python",
   "nbconvert_exporter": "python",
   "pygments_lexer": "ipython3",
   "version": "3.9.13"
  },
  "vscode": {
   "interpreter": {
    "hash": "aee8b7b246df8f9039afb4144a1f6fd8d2ca17a180786b69acc140d282b71a49"
   }
  }
 },
 "nbformat": 4,
 "nbformat_minor": 2
}
