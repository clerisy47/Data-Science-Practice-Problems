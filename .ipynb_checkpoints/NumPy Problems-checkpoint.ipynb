{
 "cells": [
  {
   "cell_type": "markdown",
   "metadata": {},
   "source": [
    "Create a 1-D array of 10 evenly spaced values between 0 and 1, and then reshape the array to a 2-D array of shape (5, 2)."
   ]
  },
  {
   "cell_type": "code",
   "execution_count": 10,
   "metadata": {},
   "outputs": [
    {
     "name": "stdout",
     "output_type": "stream",
     "text": [
      "[[0.         0.11111111]\n",
      " [0.22222222 0.33333333]\n",
      " [0.44444444 0.55555556]\n",
      " [0.66666667 0.77777778]\n",
      " [0.88888889 1.        ]]\n"
     ]
    }
   ],
   "source": [
    "import numpy as np\n",
    "array1 = np.linspace(0, 1, 10)\n",
    "array1 = array1.reshape(5, 2)\n",
    "print(array1)"
   ]
  },
  {
   "cell_type": "markdown",
   "metadata": {},
   "source": [
    "Create a 2-D array of shape (3, 4) with random values and then extract the second and third rows."
   ]
  },
  {
   "cell_type": "code",
   "execution_count": 11,
   "metadata": {},
   "outputs": [
    {
     "name": "stdout",
     "output_type": "stream",
     "text": [
      "[[ 4 86 24 30]\n",
      " [67 13 52 68]]\n"
     ]
    }
   ],
   "source": [
    "import numpy as np\n",
    "array1 = np.random.randint(1,100,12).reshape(3,4)\n",
    "print(array1[1:3])"
   ]
  },
  {
   "cell_type": "markdown",
   "metadata": {},
   "source": [
    "Create a 2-D array of shape (4, 4) with random values and then extract the second and third columns."
   ]
  },
  {
   "cell_type": "code",
   "execution_count": 12,
   "metadata": {},
   "outputs": [
    {
     "name": "stdout",
     "output_type": "stream",
     "text": [
      "[[ 8 84]\n",
      " [78 71]\n",
      " [82 59]\n",
      " [13 47]]\n",
      "None\n"
     ]
    }
   ],
   "source": [
    "import numpy as np\n",
    "array1 = np.random.randint(1,100,16).reshape(4,4)\n",
    "print(print(array1[:,1:3]))"
   ]
  },
  {
   "cell_type": "markdown",
   "metadata": {},
   "source": [
    "Create a 2-D array of shape (5, 5) with random values and then extract the diagonal of the array."
   ]
  },
  {
   "cell_type": "code",
   "execution_count": 13,
   "metadata": {},
   "outputs": [
    {
     "name": "stdout",
     "output_type": "stream",
     "text": [
      "[27 59 49 15 63]\n"
     ]
    }
   ],
   "source": [
    "import numpy as np\n",
    "array1 = np.random.randint(1,100,25).reshape(5,5)\n",
    "print(np.diag(array1))"
   ]
  },
  {
   "cell_type": "markdown",
   "metadata": {},
   "source": [
    "Create a 2-D array of shape (3, 3) with random values and then calculate the determinant of the array using numpy."
   ]
  },
  {
   "cell_type": "code",
   "execution_count": 14,
   "metadata": {},
   "outputs": [
    {
     "name": "stdout",
     "output_type": "stream",
     "text": [
      "-31312.999999999967\n"
     ]
    }
   ],
   "source": [
    "import numpy as np\n",
    "array1 = np.random.randint(1,100,9).reshape(3,3)\n",
    "print(np.linalg.det(array1))\n"
   ]
  },
  {
   "cell_type": "markdown",
   "metadata": {},
   "source": [
    "Create a 2-D array of shape (2, 3) with random values and then perform matrix multiplication of the array with its transpose."
   ]
  },
  {
   "cell_type": "code",
   "execution_count": 15,
   "metadata": {},
   "outputs": [
    {
     "name": "stdout",
     "output_type": "stream",
     "text": [
      "[[14708  6860]\n",
      " [ 6860  5954]]\n"
     ]
    }
   ],
   "source": [
    "import numpy as np\n",
    "array1 = np.random.randint(1,100,6).reshape(2,3)\n",
    "print(np.dot(array1, np.transpose(array1)))"
   ]
  },
  {
   "cell_type": "markdown",
   "metadata": {},
   "source": [
    "Create a 1-D array of shape (10) with random values and then find the index of the maximum value using numpy."
   ]
  },
  {
   "cell_type": "code",
   "execution_count": 16,
   "metadata": {},
   "outputs": [
    {
     "name": "stdout",
     "output_type": "stream",
     "text": [
      "0\n"
     ]
    }
   ],
   "source": [
    "import numpy as np\n",
    "array1 = np.random.randint(1,100,10)\n",
    "print(np.argmax(array1))\n"
   ]
  },
  {
   "cell_type": "markdown",
   "metadata": {},
   "source": [
    "Create a 2-D array of shape (4, 4) with random values and then sort the array along the first axis.\n"
   ]
  },
  {
   "cell_type": "code",
   "execution_count": 17,
   "metadata": {},
   "outputs": [
    {
     "name": "stdout",
     "output_type": "stream",
     "text": [
      "[[ 9 18 13  2]\n",
      " [12 22 17 25]\n",
      " [16 52 51 36]\n",
      " [59 82 92 60]]\n"
     ]
    }
   ],
   "source": [
    "import numpy as np\n",
    "array1 = np.random.randint(1,100,16).reshape(4,4)\n",
    "print(np.sort(array1, axis=0))"
   ]
  },
  {
   "cell_type": "markdown",
   "metadata": {},
   "source": [
    "Create a 2-D array of shape (4, 4) with random values and then calculate the mean, median and standard deviation of the array along the second axis.\n"
   ]
  },
  {
   "cell_type": "code",
   "execution_count": 18,
   "metadata": {
    "scrolled": false
   },
   "outputs": [
    {
     "name": "stdout",
     "output_type": "stream",
     "text": [
      "[[79 78 71 63]\n",
      " [42 84 96 63]\n",
      " [ 3 53 59 48]\n",
      " [85 44 80 48]]\n",
      "[72.75 71.25 40.75 64.25]\n",
      "[74.5 73.5 50.5 64. ]\n",
      "[ 6.41774883 20.6079475  22.14017841 18.38987493]\n"
     ]
    }
   ],
   "source": [
    "import numpy as np\n",
    "array1 = np.random.randint(1,100,16).reshape(4,4)\n",
    "print(array1)\n",
    "print(np.mean(array1, axis=1))\n",
    "print(np.median(array1, axis=1))\n",
    "print(np.std(array1, axis=1))\n"
   ]
  },
  {
   "cell_type": "markdown",
   "metadata": {},
   "source": [
    "Create a 1-D array of shape (10) with random values and then save the array to a binary file, load the array from the binary file and then compare it with the original array to check if they are equal."
   ]
  },
  {
   "cell_type": "code",
   "execution_count": 19,
   "metadata": {},
   "outputs": [
    {
     "name": "stdout",
     "output_type": "stream",
     "text": [
      "[ True  True  True  True  True  True  True  True  True  True]\n"
     ]
    }
   ],
   "source": [
    "import numpy as np\n",
    "array1 = np.random.randint(1,100,10)\n",
    "np.save(\"array.npy\",array1)\n",
    "array2 = np.load(\"array.npy\")\n",
    "print(array1 == array2)\n"
   ]
  }
 ],
 "metadata": {
  "kernelspec": {
   "display_name": "Python 3 (ipykernel)",
   "language": "python",
   "name": "python3"
  },
  "language_info": {
   "codemirror_mode": {
    "name": "ipython",
    "version": 3
   },
   "file_extension": ".py",
   "mimetype": "text/x-python",
   "name": "python",
   "nbconvert_exporter": "python",
   "pygments_lexer": "ipython3",
   "version": "3.9.13"
  },
  "vscode": {
   "interpreter": {
    "hash": "aee8b7b246df8f9039afb4144a1f6fd8d2ca17a180786b69acc140d282b71a49"
   }
  }
 },
 "nbformat": 4,
 "nbformat_minor": 2
}
