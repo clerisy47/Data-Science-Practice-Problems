{
 "cells": [
  {
   "cell_type": "markdown",
   "metadata": {},
   "source": [
    "Create a 1-D array of 10 evenly spaced values between 0 and 1, and then reshape the array to a 2-D array of shape (5, 2)."
   ]
  },
  {
   "cell_type": "code",
   "execution_count": 12,
   "metadata": {},
   "outputs": [
    {
     "name": "stdout",
     "output_type": "stream",
     "text": [
      "[[0.         0.11111111]\n",
      " [0.22222222 0.33333333]\n",
      " [0.44444444 0.55555556]\n",
      " [0.66666667 0.77777778]\n",
      " [0.88888889 1.        ]]\n"
     ]
    }
   ],
   "source": [
    "import numpy as np\n",
    "array1 = np.linspace(0, 1, 10)\n",
    "array1 = array1.reshape(5, 2)\n",
    "print(array1)"
   ]
  },
  {
   "cell_type": "markdown",
   "metadata": {},
   "source": [
    "Create a 2-D array of shape (3, 4) with random values and then extract the second and third rows."
   ]
  },
  {
   "cell_type": "code",
   "execution_count": 13,
   "metadata": {},
   "outputs": [
    {
     "name": "stdout",
     "output_type": "stream",
     "text": [
      "[[92 70 98 94]\n",
      " [62 32  4  6]]\n"
     ]
    }
   ],
   "source": [
    "import numpy as np\n",
    "array1 = np.random.randint(1,100,12).reshape(3,4)\n",
    "print(array1[1:3])"
   ]
  },
  {
   "cell_type": "markdown",
   "metadata": {},
   "source": [
    "Create a 2-D array of shape (4, 4) with random values and then extract the second and third columns."
   ]
  },
  {
   "cell_type": "code",
   "execution_count": 14,
   "metadata": {},
   "outputs": [
    {
     "name": "stdout",
     "output_type": "stream",
     "text": [
      "[[87 99]\n",
      " [33 96]\n",
      " [28 95]\n",
      " [ 5 94]]\n",
      "None\n"
     ]
    }
   ],
   "source": [
    "import numpy as np\n",
    "array1 = np.random.randint(1,100,16).reshape(4,4)\n",
    "print(print(array1[:,1:3]))"
   ]
  },
  {
   "cell_type": "markdown",
   "metadata": {},
   "source": [
    "Create a 2-D array of shape (5, 5) with random values and then extract the diagonal of the array."
   ]
  },
  {
   "cell_type": "code",
   "execution_count": 15,
   "metadata": {},
   "outputs": [
    {
     "name": "stdout",
     "output_type": "stream",
     "text": [
      "[86 19 29 63 65]\n"
     ]
    }
   ],
   "source": [
    "import numpy as np\n",
    "array1 = np.random.randint(1,100,25).reshape(5,5)\n",
    "print(np.diag(array1))"
   ]
  },
  {
   "cell_type": "markdown",
   "metadata": {},
   "source": [
    "Create a 2-D array of shape (3, 3) with random values and then calculate the determinant of the array using numpy."
   ]
  },
  {
   "cell_type": "code",
   "execution_count": 16,
   "metadata": {},
   "outputs": [
    {
     "name": "stdout",
     "output_type": "stream",
     "text": [
      "-120941.99999999996\n"
     ]
    }
   ],
   "source": [
    "import numpy as np\n",
    "array1 = np.random.randint(1,100,9).reshape(3,3)\n",
    "print(np.linalg.det(array1))\n"
   ]
  },
  {
   "cell_type": "markdown",
   "metadata": {},
   "source": [
    "Create a 2-D array of shape (2, 3) with random values and then perform matrix multiplication of the array with its transpose."
   ]
  },
  {
   "cell_type": "code",
   "execution_count": 17,
   "metadata": {},
   "outputs": [
    {
     "name": "stdout",
     "output_type": "stream",
     "text": [
      "[[16664 11398]\n",
      " [11398 15638]]\n"
     ]
    }
   ],
   "source": [
    "import numpy as np\n",
    "array1 = np.random.randint(1,100,6).reshape(2,3)\n",
    "print(np.dot(array1, np.transpose(array1)))"
   ]
  },
  {
   "cell_type": "markdown",
   "metadata": {},
   "source": [
    "Create a 1-D array of shape (10) with random values and then find the index of the maximum value using numpy."
   ]
  },
  {
   "cell_type": "code",
   "execution_count": 23,
   "metadata": {},
   "outputs": [
    {
     "name": "stdout",
     "output_type": "stream",
     "text": [
      "0\n"
     ]
    }
   ],
   "source": [
    "import numpy as np\n",
    "array1 = np.random.randint(1,100,10)\n",
    "print(np.argmax(array1))\n"
   ]
  },
  {
   "cell_type": "markdown",
   "metadata": {},
   "source": [
    "Create a 2-D array of shape (4, 4) with random values and then sort the array along the first axis.\n"
   ]
  },
  {
   "cell_type": "code",
   "execution_count": 19,
   "metadata": {},
   "outputs": [
    {
     "name": "stdout",
     "output_type": "stream",
     "text": [
      "[[63 23 47 34]\n",
      " [72 37 53 69]\n",
      " [72 77 65 91]\n",
      " [99 89 69 97]]\n"
     ]
    }
   ],
   "source": [
    "import numpy as np\n",
    "array1 = np.random.randint(1,100,16).reshape(4,4)\n",
    "print(np.sort(array1, axis=0))"
   ]
  },
  {
   "cell_type": "markdown",
   "metadata": {},
   "source": [
    "Create a 2-D array of shape (4, 4) with random values and then calculate the mean, median and standard deviation of the array along the second axis.\n"
   ]
  },
  {
   "cell_type": "code",
   "execution_count": 25,
   "metadata": {
    "scrolled": false
   },
   "outputs": [
    {
     "name": "stdout",
     "output_type": "stream",
     "text": [
      "[[63 55 74 89]\n",
      " [ 5 50 49 97]\n",
      " [94 21 52 23]\n",
      " [12 21 91 80]]\n",
      "[70.25 50.25 47.5  51.  ]\n",
      "[68.5 49.5 37.5 50.5]\n",
      "[12.75490102 32.53747839 29.51694429 34.86402157]\n"
     ]
    }
   ],
   "source": [
    "import numpy as np\n",
    "array1 = np.random.randint(1,100,16).reshape(4,4)\n",
    "print(array1)\n",
    "print(np.mean(array1, axis=1))\n",
    "print(np.median(array1, axis=1))\n",
    "print(np.std(array1, axis=1))\n"
   ]
  },
  {
   "cell_type": "markdown",
   "metadata": {},
   "source": [
    "Create a 1-D array of shape (10) with random values and then save the array to a binary file, load the array from the binary file and then compare it with the original array to check if they are equal."
   ]
  },
  {
   "cell_type": "code",
   "execution_count": 27,
   "metadata": {},
   "outputs": [
    {
     "name": "stdout",
     "output_type": "stream",
     "text": [
      "[ True  True  True  True  True  True  True  True  True  True]\n"
     ]
    }
   ],
   "source": [
    "import numpy as np\n",
    "array1 = np.random.randint(1,100,10)\n",
    "np.save(\"array.npy\",array1)\n",
    "array2 = np.load(\"array.npy\")\n",
    "print(array1 == array2)\n"
   ]
  }
 ],
 "metadata": {
  "kernelspec": {
   "display_name": "Python 3 (ipykernel)",
   "language": "python",
   "name": "python3"
  },
  "language_info": {
   "codemirror_mode": {
    "name": "ipython",
    "version": 3
   },
   "file_extension": ".py",
   "mimetype": "text/x-python",
   "name": "python",
   "nbconvert_exporter": "python",
   "pygments_lexer": "ipython3",
   "version": "3.9.13"
  },
  "vscode": {
   "interpreter": {
    "hash": "aee8b7b246df8f9039afb4144a1f6fd8d2ca17a180786b69acc140d282b71a49"
   }
  }
 },
 "nbformat": 4,
 "nbformat_minor": 2
}
