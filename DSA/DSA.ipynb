{
 "cells": [
  {
   "attachments": {},
   "cell_type": "markdown",
   "metadata": {},
   "source": [
    "Let us say your expense for every month are listed below,\n",
    "January - 2200\n",
    "February - 2350\n",
    "March - 2600\n",
    "April - 2130\n",
    "May - 2190\n",
    "Create a list to store these monthly expenses and using that find out,\n",
    "\n",
    "1. In Feb, how many dollars you spent extra compare to January?\n",
    "2. Find out your total expense in first quarter (first three months) of the year.\n",
    "3. Find out if you spent exactly 2000 dollars in any month\n",
    "4. June month just finished and your expense is 1980 dollar. Add this item to our monthly expense list\n",
    "5. You returned an item that you bought in a month of April and\n",
    "got a refund of 200$. Make a correction to your monthly expense list\n",
    "based on this"
   ]
  },
  {
   "cell_type": "code",
   "execution_count": 64,
   "metadata": {},
   "outputs": [
    {
     "name": "stdout",
     "output_type": "stream",
     "text": [
      "In Feb, I spent 150 dollars extra compared to January\n",
      "Total expenses in first three months is 7150\n",
      "No. 2000 isn't in the list.\n",
      "The updated list is [2200, 2350, 2600, 2130, 2190, 1980]\n",
      "The corrected list is [2200, 2350, 2600, 1930, 2190, 1980]\n"
     ]
    }
   ],
   "source": [
    "lst = [2200, 2350, 2600, 2130, 2190]\n",
    "print(f\"In Feb, I spent {lst[1]-lst[0]} dollars extra compared to January\")\n",
    "print(f\"Total expenses in first three months is {sum(lst[:3])}\")\n",
    "if 2000 in lst:\n",
    "    print(\"Yes, 2000 is in list.\")\n",
    "else:\n",
    "    print(\"No. 2000 isn't in the list.\")\n",
    "lst.append(1980)\n",
    "print(f\"The updated list is {lst}\")\n",
    "lst[3]-=200\n",
    "print(f\"The corrected list is {lst}\")\n"
   ]
  },
  {
   "attachments": {},
   "cell_type": "markdown",
   "metadata": {},
   "source": [
    "heros=['spider man','thor','hulk','iron man','captain america']\n",
    "Using this find out,\n",
    "\n",
    "1. Length of the list\n",
    "2. Add 'black panther' at the end of this list\n",
    "3. You realize that you need to add 'black panther' after 'hulk',\n",
    "   so remove it from the list first and then add it after 'hulk'\n",
    "4. Now you don't like thor and hulk because they get angry easily :)\n",
    "   So you want to remove thor and hulk from list and replace them with doctor strange (because he is cool).\n",
    "   Do that with one line of code.\n",
    "5. Sort the heros list in alphabetical order (Hint. Use dir() functions to list down all functions available in list)"
   ]
  },
  {
   "cell_type": "code",
   "execution_count": 65,
   "metadata": {},
   "outputs": [
    {
     "name": "stdout",
     "output_type": "stream",
     "text": [
      "The length of the string is 5\n",
      "['spider man', 'thor', 'hulk', 'iron man', 'captain america', 'black panther']\n",
      "['spider man', 'thor', 'hulk', 'black panther', 'iron man', 'captain america']\n",
      "['spider man', 'd', 'o', 'c', 't', 'o', 'r', ' ', 's', 't', 'r', 'a', 'n', 'g', 'e', 'black panther', 'iron man', 'captain america']\n",
      "[' ', 'a', 'black panther', 'c', 'captain america', 'd', 'e', 'g', 'iron man', 'n', 'o', 'o', 'r', 'r', 's', 'spider man', 't', 't']\n"
     ]
    }
   ],
   "source": [
    "heros=['spider man','thor','hulk','iron man','captain america']\n",
    "print(f\"The length of the string is {len(heros)}\")\n",
    "heros.append(\"black panther\")\n",
    "print(heros)\n",
    "heros.pop() # Also heros.remove(\"black panther\") but worse time complexity\n",
    "heros.insert(3, \"black panther\")\n",
    "print(heros)\n",
    "heros[1:3]=\"doctor strange\"\n",
    "print(heros)\n",
    "heros.sort()\n",
    "print(heros)"
   ]
  },
  {
   "attachments": {},
   "cell_type": "markdown",
   "metadata": {},
   "source": [
    "Create a list of all odd numbers between 1 and a max number. Max number is something you need to take from a user using input() function"
   ]
  },
  {
   "cell_type": "code",
   "execution_count": 73,
   "metadata": {},
   "outputs": [
    {
     "data": {
      "text/plain": [
       "[1, 3, 5]"
      ]
     },
     "execution_count": 73,
     "metadata": {},
     "output_type": "execute_result"
    }
   ],
   "source": [
    "max_number = int(input())\n",
    "lst = [ i for i in range(1,max_number+1) if i%2 != 0]\n",
    "lst"
   ]
  },
  {
   "attachments": {},
   "cell_type": "markdown",
   "metadata": {},
   "source": [
    "Implement singly linked list"
   ]
  },
  {
   "cell_type": "code",
   "execution_count": 69,
   "metadata": {},
   "outputs": [],
   "source": [
    "class Node:\n",
    "    def __init__(self, data=None, next=None):\n",
    "        self.data = data\n",
    "        self.next = next\n",
    "\n",
    "class LinkedList:\n",
    "    def __init__(self):\n",
    "        self.head = None\n",
    "\n",
    "    def print(self):\n",
    "        if self.head is None:\n",
    "            print(\"Linked list is empty\")\n",
    "            return\n",
    "        itr = self.head\n",
    "        llstr = ''\n",
    "        while itr:\n",
    "            llstr += str(itr.data)+' --> ' if itr.next else str(itr.data)\n",
    "            itr = itr.next\n",
    "        print(llstr)\n",
    "\n",
    "    def get_length(self):\n",
    "        count = 0\n",
    "        itr = self.head\n",
    "        while itr:\n",
    "            count+=1\n",
    "            itr = itr.next\n",
    "\n",
    "        return count\n",
    "\n",
    "    def prepend(self, data):\n",
    "        node = Node(data, self.head)\n",
    "        self.head = node\n",
    "\n",
    "    def append(self, data):\n",
    "        if self.head is None:\n",
    "            self.head = Node(data, None)\n",
    "            return\n",
    "\n",
    "        itr = self.head\n",
    "\n",
    "        while itr.next:\n",
    "            itr = itr.next\n",
    "\n",
    "        itr.next = Node(data, None)\n",
    "\n",
    "    def insert_at(self, index, data):\n",
    "        if index<0 or index>self.get_length():\n",
    "            raise Exception(\"Invalid Index\")\n",
    "\n",
    "        if index==0:\n",
    "            self.prepend(data)\n",
    "            return\n",
    "\n",
    "        count = 0\n",
    "        itr = self.head\n",
    "        while itr:\n",
    "            if count == index - 1:\n",
    "                node = Node(data, itr.next)\n",
    "                itr.next = node\n",
    "                break\n",
    "\n",
    "            itr = itr.next\n",
    "            count += 1\n",
    "\n",
    "    def remove_at(self, index):\n",
    "        if index<0 or index>=self.get_length():\n",
    "            raise Exception(\"Invalid Index\")\n",
    "\n",
    "        if index==0:\n",
    "            self.head = self.head.next\n",
    "            return\n",
    "\n",
    "        count = 0\n",
    "        itr = self.head\n",
    "        while itr:\n",
    "            if count == index - 1:\n",
    "                itr.next = itr.next.next\n",
    "                break\n",
    "\n",
    "            itr = itr.next\n",
    "            count+=1\n",
    "\n",
    "    def insert_values(self, data_list):\n",
    "        self.head = None\n",
    "        for data in data_list:\n",
    "            self.append(data)\n",
    "\n",
    "    def insert_after_value(self, data_after, data_to_insert):\n",
    "        if self.head is None:\n",
    "            return\n",
    "\n",
    "        if self.head.data==data_after:\n",
    "            self.head.next = Node(data_to_insert,self.head.next)\n",
    "            return\n",
    "\n",
    "        itr = self.head\n",
    "        while itr:\n",
    "            if itr.data == data_after:\n",
    "                itr.next = Node(data_to_insert, itr.next)\n",
    "                break\n",
    "\n",
    "            itr = itr.next\n",
    "\n",
    "    def remove_by_value(self, data):\n",
    "        if self.head is None:\n",
    "            return\n",
    "\n",
    "        if self.head.data == data:\n",
    "            self.head = self.head.next\n",
    "            return\n",
    "\n",
    "        itr = self.head\n",
    "        while itr.next:\n",
    "            if itr.next.data == data:\n",
    "                itr.next = itr.next.next\n",
    "                break\n",
    "            itr = itr.next\n",
    "\n",
    "\n",
    "    \n"
   ]
  },
  {
   "cell_type": "code",
   "execution_count": 70,
   "metadata": {},
   "outputs": [
    {
     "name": "stdout",
     "output_type": "stream",
     "text": [
      "orange --> mango --> apple\n"
     ]
    }
   ],
   "source": [
    "ll = LinkedList()\n",
    "ll.append(\"mango\")\n",
    "ll.append(\"apple\")\n",
    "ll.prepend(\"orange\")\n",
    "ll.print()"
   ]
  },
  {
   "attachments": {},
   "cell_type": "markdown",
   "metadata": {},
   "source": [
    "Implement doubly linked list. "
   ]
  },
  {
   "cell_type": "code",
   "execution_count": 71,
   "metadata": {},
   "outputs": [],
   "source": [
    "class Node:\n",
    "    def __init__(self, data=None, next=None, prev=None):\n",
    "        self.data = data\n",
    "        self.next = next\n",
    "        self.prev = prev\n",
    "\n",
    "class DoublyLinkedList:\n",
    "    def __init__(self):\n",
    "        self.head = None\n",
    "\n",
    "    def print_forward(self):\n",
    "        if self.head is None:\n",
    "            print(\"Linked list is empty\")\n",
    "            return\n",
    "\n",
    "        itr = self.head\n",
    "        llstr = ''\n",
    "        while itr:\n",
    "            llstr += str(itr.data) + ' --> '\n",
    "            itr = itr.next\n",
    "        print(llstr)\n",
    "\n",
    "    def print_backward(self):\n",
    "        if self.head is None:\n",
    "            print(\"Linked list is empty\")\n",
    "            return\n",
    "\n",
    "        last_node = self.get_last_node()\n",
    "        itr = last_node\n",
    "        llstr = ''\n",
    "        while itr:\n",
    "            llstr += itr.data + '-->'\n",
    "            itr = itr.prev\n",
    "        print(\"Link list in reverse: \", llstr)\n",
    "\n",
    "    def get_last_node(self):\n",
    "        itr = self.head\n",
    "        while itr.next:\n",
    "            itr = itr.next\n",
    "\n",
    "        return itr\n",
    "\n",
    "    def get_length(self):\n",
    "        count = 0\n",
    "        itr = self.head\n",
    "        while itr:\n",
    "            count+=1\n",
    "            itr = itr.next\n",
    "\n",
    "        return count\n",
    "\n",
    "    def prepend(self, data):\n",
    "        if self.head == None:\n",
    "            node = Node(data, self.head, None)\n",
    "            self.head = node\n",
    "        else:\n",
    "            node = Node(data, self.head, None)\n",
    "            self.head.prev = node\n",
    "            self.head = node\n",
    "\n",
    "    def append(self, data):\n",
    "        if self.head is None:\n",
    "            self.head = Node(data, None, None)\n",
    "            return\n",
    "\n",
    "        itr = self.head\n",
    "\n",
    "        while itr.next:\n",
    "            itr = itr.next\n",
    "\n",
    "        itr.next = Node(data, None, itr)\n",
    "\n",
    "    def insert_at(self, index, data):\n",
    "        if index<0 or index>self.get_length():\n",
    "            raise Exception(\"Invalid Index\")\n",
    "\n",
    "        if index==0:\n",
    "            self.prepend(data)\n",
    "            return\n",
    "\n",
    "        count = 0\n",
    "        itr = self.head\n",
    "        while itr:\n",
    "            if count == index - 1:\n",
    "                node = Node(data, itr.next, itr)\n",
    "                if node.next:\n",
    "                    node.next.prev = node\n",
    "                itr.next = node\n",
    "                break\n",
    "\n",
    "            itr = itr.next\n",
    "            count += 1\n",
    "\n",
    "    def remove_at(self, index):\n",
    "        if index<0 or index>=self.get_length():\n",
    "            raise Exception(\"Invalid Index\")\n",
    "\n",
    "        if index==0:\n",
    "            self.head = self.head.next\n",
    "            self.head.prev = None\n",
    "            return\n",
    "\n",
    "        count = 0\n",
    "        itr = self.head\n",
    "        while itr:\n",
    "            if count == index:\n",
    "                itr.prev.next = itr.next\n",
    "                if itr.next:\n",
    "                    itr.next.prev = itr.prev\n",
    "                break\n",
    "\n",
    "            itr = itr.next\n",
    "            count+=1\n",
    "\n",
    "    def insert_values(self, data_list):\n",
    "        self.head = None\n",
    "        for data in data_list:\n",
    "            self.append(data)"
   ]
  },
  {
   "cell_type": "code",
   "execution_count": 74,
   "metadata": {},
   "outputs": [
    {
     "name": "stdout",
     "output_type": "stream",
     "text": [
      "orange --> mango --> apple --> \n",
      "Link list in reverse:  apple-->mango-->orange-->\n"
     ]
    }
   ],
   "source": [
    "ll = DoublyLinkedList()\n",
    "ll.append(\"mango\")\n",
    "ll.append(\"apple\")\n",
    "ll.prepend(\"orange\")\n",
    "ll.print_forward()\n",
    "ll.print_backward()"
   ]
  }
 ],
 "metadata": {
  "kernelspec": {
   "display_name": "base",
   "language": "python",
   "name": "python3"
  },
  "language_info": {
   "codemirror_mode": {
    "name": "ipython",
    "version": 3
   },
   "file_extension": ".py",
   "mimetype": "text/x-python",
   "name": "python",
   "nbconvert_exporter": "python",
   "pygments_lexer": "ipython3",
   "version": "3.9.13"
  },
  "orig_nbformat": 4,
  "vscode": {
   "interpreter": {
    "hash": "ff7d574ff54b0f83d103cd6ae016c78af2d72d27cb5ffce6ccc74920cc77be9d"
   }
  }
 },
 "nbformat": 4,
 "nbformat_minor": 2
}
