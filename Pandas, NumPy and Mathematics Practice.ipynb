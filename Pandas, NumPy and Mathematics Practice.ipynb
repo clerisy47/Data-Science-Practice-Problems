{
 "cells": [
  {
   "cell_type": "markdown",
   "id": "0e7dc37a",
   "metadata": {},
   "source": [
    "Use this air bnb new york city data set and remove outliers using percentile based on price per night for a given apartment/home. You can use suitable upper and lower limits on percentile based on your intuition. Your goal is to come up with new pandas dataframe that doesn't have the outliers present in it."
   ]
  },
  {
   "cell_type": "code",
   "execution_count": 4,
   "id": "a396d0ba",
   "metadata": {},
   "outputs": [
    {
     "data": {
      "text/html": [
       "<div>\n",
       "<style scoped>\n",
       "    .dataframe tbody tr th:only-of-type {\n",
       "        vertical-align: middle;\n",
       "    }\n",
       "\n",
       "    .dataframe tbody tr th {\n",
       "        vertical-align: top;\n",
       "    }\n",
       "\n",
       "    .dataframe thead th {\n",
       "        text-align: right;\n",
       "    }\n",
       "</style>\n",
       "<table border=\"1\" class=\"dataframe\">\n",
       "  <thead>\n",
       "    <tr style=\"text-align: right;\">\n",
       "      <th></th>\n",
       "      <th>id</th>\n",
       "      <th>name</th>\n",
       "      <th>host_id</th>\n",
       "      <th>host_name</th>\n",
       "      <th>neighbourhood_group</th>\n",
       "      <th>neighbourhood</th>\n",
       "      <th>latitude</th>\n",
       "      <th>longitude</th>\n",
       "      <th>room_type</th>\n",
       "      <th>price</th>\n",
       "      <th>minimum_nights</th>\n",
       "      <th>number_of_reviews</th>\n",
       "      <th>last_review</th>\n",
       "      <th>reviews_per_month</th>\n",
       "      <th>calculated_host_listings_count</th>\n",
       "      <th>availability_365</th>\n",
       "    </tr>\n",
       "  </thead>\n",
       "  <tbody>\n",
       "    <tr>\n",
       "      <th>0</th>\n",
       "      <td>2539</td>\n",
       "      <td>Clean &amp; quiet apt home by the park</td>\n",
       "      <td>2787</td>\n",
       "      <td>John</td>\n",
       "      <td>Brooklyn</td>\n",
       "      <td>Kensington</td>\n",
       "      <td>40.64749</td>\n",
       "      <td>-73.97237</td>\n",
       "      <td>Private room</td>\n",
       "      <td>149</td>\n",
       "      <td>1</td>\n",
       "      <td>9</td>\n",
       "      <td>2018-10-19</td>\n",
       "      <td>0.21</td>\n",
       "      <td>6</td>\n",
       "      <td>365</td>\n",
       "    </tr>\n",
       "    <tr>\n",
       "      <th>1</th>\n",
       "      <td>2595</td>\n",
       "      <td>Skylit Midtown Castle</td>\n",
       "      <td>2845</td>\n",
       "      <td>Jennifer</td>\n",
       "      <td>Manhattan</td>\n",
       "      <td>Midtown</td>\n",
       "      <td>40.75362</td>\n",
       "      <td>-73.98377</td>\n",
       "      <td>Entire home/apt</td>\n",
       "      <td>225</td>\n",
       "      <td>1</td>\n",
       "      <td>45</td>\n",
       "      <td>2019-05-21</td>\n",
       "      <td>0.38</td>\n",
       "      <td>2</td>\n",
       "      <td>355</td>\n",
       "    </tr>\n",
       "    <tr>\n",
       "      <th>2</th>\n",
       "      <td>3647</td>\n",
       "      <td>THE VILLAGE OF HARLEM....NEW YORK !</td>\n",
       "      <td>4632</td>\n",
       "      <td>Elisabeth</td>\n",
       "      <td>Manhattan</td>\n",
       "      <td>Harlem</td>\n",
       "      <td>40.80902</td>\n",
       "      <td>-73.94190</td>\n",
       "      <td>Private room</td>\n",
       "      <td>150</td>\n",
       "      <td>3</td>\n",
       "      <td>0</td>\n",
       "      <td>NaN</td>\n",
       "      <td>NaN</td>\n",
       "      <td>1</td>\n",
       "      <td>365</td>\n",
       "    </tr>\n",
       "    <tr>\n",
       "      <th>3</th>\n",
       "      <td>3831</td>\n",
       "      <td>Cozy Entire Floor of Brownstone</td>\n",
       "      <td>4869</td>\n",
       "      <td>LisaRoxanne</td>\n",
       "      <td>Brooklyn</td>\n",
       "      <td>Clinton Hill</td>\n",
       "      <td>40.68514</td>\n",
       "      <td>-73.95976</td>\n",
       "      <td>Entire home/apt</td>\n",
       "      <td>89</td>\n",
       "      <td>1</td>\n",
       "      <td>270</td>\n",
       "      <td>2019-07-05</td>\n",
       "      <td>4.64</td>\n",
       "      <td>1</td>\n",
       "      <td>194</td>\n",
       "    </tr>\n",
       "    <tr>\n",
       "      <th>4</th>\n",
       "      <td>5022</td>\n",
       "      <td>Entire Apt: Spacious Studio/Loft by central park</td>\n",
       "      <td>7192</td>\n",
       "      <td>Laura</td>\n",
       "      <td>Manhattan</td>\n",
       "      <td>East Harlem</td>\n",
       "      <td>40.79851</td>\n",
       "      <td>-73.94399</td>\n",
       "      <td>Entire home/apt</td>\n",
       "      <td>80</td>\n",
       "      <td>10</td>\n",
       "      <td>9</td>\n",
       "      <td>2018-11-19</td>\n",
       "      <td>0.10</td>\n",
       "      <td>1</td>\n",
       "      <td>0</td>\n",
       "    </tr>\n",
       "  </tbody>\n",
       "</table>\n",
       "</div>"
      ],
      "text/plain": [
       "     id                                              name  host_id  \\\n",
       "0  2539                Clean & quiet apt home by the park     2787   \n",
       "1  2595                             Skylit Midtown Castle     2845   \n",
       "2  3647               THE VILLAGE OF HARLEM....NEW YORK !     4632   \n",
       "3  3831                   Cozy Entire Floor of Brownstone     4869   \n",
       "4  5022  Entire Apt: Spacious Studio/Loft by central park     7192   \n",
       "\n",
       "     host_name neighbourhood_group neighbourhood  latitude  longitude  \\\n",
       "0         John            Brooklyn    Kensington  40.64749  -73.97237   \n",
       "1     Jennifer           Manhattan       Midtown  40.75362  -73.98377   \n",
       "2    Elisabeth           Manhattan        Harlem  40.80902  -73.94190   \n",
       "3  LisaRoxanne            Brooklyn  Clinton Hill  40.68514  -73.95976   \n",
       "4        Laura           Manhattan   East Harlem  40.79851  -73.94399   \n",
       "\n",
       "         room_type  price  minimum_nights  number_of_reviews last_review  \\\n",
       "0     Private room    149               1                  9  2018-10-19   \n",
       "1  Entire home/apt    225               1                 45  2019-05-21   \n",
       "2     Private room    150               3                  0         NaN   \n",
       "3  Entire home/apt     89               1                270  2019-07-05   \n",
       "4  Entire home/apt     80              10                  9  2018-11-19   \n",
       "\n",
       "   reviews_per_month  calculated_host_listings_count  availability_365  \n",
       "0               0.21                               6               365  \n",
       "1               0.38                               2               355  \n",
       "2                NaN                               1               365  \n",
       "3               4.64                               1               194  \n",
       "4               0.10                               1                 0  "
      ]
     },
     "execution_count": 4,
     "metadata": {},
     "output_type": "execute_result"
    }
   ],
   "source": [
    "import pandas as pd\n",
    "df1 = pd.read_csv(\"AB_NYC_2019.csv\")\n",
    "df1.head()"
   ]
  },
  {
   "cell_type": "code",
   "execution_count": 5,
   "id": "b7a80ed2",
   "metadata": {},
   "outputs": [
    {
     "data": {
      "text/plain": [
       "((48895, 16), (48017, 16))"
      ]
     },
     "execution_count": 5,
     "metadata": {},
     "output_type": "execute_result"
    }
   ],
   "source": [
    "min_limit = df1[\"price\"].quantile(0.01)\n",
    "max_limit = df1[\"price\"].quantile(0.99)\n",
    "new_df = df1[df1[\"price\"].between(min_limit, max_limit)]\n",
    "df1.shape, new_df.shape"
   ]
  },
  {
   "attachments": {},
   "cell_type": "markdown",
   "id": "c640d598",
   "metadata": {},
   "source": [
    "You are given bhp.csv which contains property prices in the city of banglore, India. You need to examine price_per_sqft column and do following,\n",
    "\n",
    "1. Remove outliers using percentile technique first. Use [0.001, 0.999] for lower and upper bound percentiles\n",
    "2. After removing outliers in step 1, you get a new dataframe.\n",
    "3. On step(2) dataframe, use 4 standard deviation to remove outliers\n",
    "4. Plot histogram for new dataframe that is generated after step (3). Also plot bell curve on same histogram\n",
    "5. On step(2) dataframe, use zscore of 4 to remove outliers. This is quite similar to step (3) and you will get exact same result"
   ]
  },
  {
   "cell_type": "code",
   "execution_count": 6,
   "id": "3c96785f",
   "metadata": {},
   "outputs": [
    {
     "data": {
      "text/plain": [
       "(                   location       size  total_sqft  bath   price  bhk  \\\n",
       " 0  Electronic City Phase II      2 BHK      1056.0   2.0   39.07    2   \n",
       " 1          Chikka Tirupathi  4 Bedroom      2600.0   5.0  120.00    4   \n",
       " 2               Uttarahalli      3 BHK      1440.0   2.0   62.00    3   \n",
       " 3        Lingadheeranahalli      3 BHK      1521.0   3.0   95.00    3   \n",
       " 4                  Kothanur      2 BHK      1200.0   2.0   51.00    2   \n",
       " \n",
       "    price_per_sqft  \n",
       " 0            3699  \n",
       " 1            4615  \n",
       " 2            4305  \n",
       " 3            6245  \n",
       " 4            4250  ,\n",
       " count    1.320000e+04\n",
       " mean     7.920337e+03\n",
       " std      1.067272e+05\n",
       " min      2.670000e+02\n",
       " 25%      4.267000e+03\n",
       " 50%      5.438000e+03\n",
       " 75%      7.317000e+03\n",
       " max      1.200000e+07\n",
       " Name: price_per_sqft, dtype: float64)"
      ]
     },
     "execution_count": 6,
     "metadata": {},
     "output_type": "execute_result"
    }
   ],
   "source": [
    "import pandas as pd\n",
    "import matplotlib.pyplot as plt\n",
    "df1 = pd.read_csv(\"bhp.csv\")\n",
    "df1.head(), df1[\"price_per_sqft\"].describe()"
   ]
  },
  {
   "cell_type": "code",
   "execution_count": 7,
   "id": "d2da267c",
   "metadata": {},
   "outputs": [
    {
     "data": {
      "image/png": "[encoded data removed]",
      "text/plain": [
       "<Figure size 640x480 with 1 Axes>"
      ]
     },
     "metadata": {},
     "output_type": "display_data"
    }
   ],
   "source": [
    "plt.hist(df1.price_per_sqft, bins=20, rwidth=0.8 )\n",
    "plt.xlabel('Price per square ft')\n",
    "plt.ylabel('Count')\n",
    "plt.show()"
   ]
  },
  {
   "attachments": {},
   "cell_type": "markdown",
   "id": "89bc07a1",
   "metadata": {},
   "source": [
    "Others bar were negligible compared to the first bar. This confirms this data has some bad outliers. Using y scale log can help use understand better."
   ]
  },
  {
   "cell_type": "code",
   "execution_count": 8,
   "id": "d7a56b3e",
   "metadata": {},
   "outputs": [
    {
     "data": {
      "image/png": "[encoded data removed]",
      "text/plain": [
       "<Figure size 640x480 with 1 Axes>"
      ]
     },
     "metadata": {},
     "output_type": "display_data"
    }
   ],
   "source": [
    "plt.hist(df1[\"price_per_sqft\"], bins=20, rwidth=0.8)\n",
    "plt.xlabel('Price per square ft')\n",
    "plt.ylabel('Count')\n",
    "plt.yscale('log')\n",
    "plt.show()"
   ]
  },
  {
   "attachments": {},
   "cell_type": "markdown",
   "id": "e691f354",
   "metadata": {},
   "source": [
    "Quantile Method"
   ]
  },
  {
   "cell_type": "code",
   "execution_count": 9,
   "id": "d203fab6",
   "metadata": {},
   "outputs": [
    {
     "data": {
      "text/plain": [
       "((13200, 7), (13172, 7), 28)"
      ]
     },
     "execution_count": 9,
     "metadata": {},
     "output_type": "execute_result"
    }
   ],
   "source": [
    "min_limit = df1[\"price_per_sqft\"].quantile(0.001)\n",
    "max_limit = df1[\"price_per_sqft\"].quantile(0.999)\n",
    "df2 = df1[df1[\"price_per_sqft\"].between(min_limit, max_limit)]\n",
    "df1.shape, df2.shape, df1.shape[0]-df2.shape[0]"
   ]
  },
  {
   "attachments": {},
   "cell_type": "markdown",
   "id": "b8eaa501",
   "metadata": {},
   "source": [
    "Standard Deviation Method"
   ]
  },
  {
   "cell_type": "code",
   "execution_count": 10,
   "id": "ac5f6efe",
   "metadata": {},
   "outputs": [
    {
     "data": {
      "text/plain": [
       "((13172, 7), (13047, 7), 125)"
      ]
     },
     "execution_count": 10,
     "metadata": {},
     "output_type": "execute_result"
    }
   ],
   "source": [
    "mean = df2[\"price_per_sqft\"].mean()\n",
    "std = df2[\"price_per_sqft\"].std()\n",
    "min_limit = mean - 4*std\n",
    "max_limit = mean + 4*std\n",
    "df3 = df2[df2[\"price_per_sqft\"].between(min_limit, max_limit)]\n",
    "df2.shape, df3.shape, df2.shape[0]-df3.shape[0]"
   ]
  },
  {
   "cell_type": "code",
   "execution_count": 11,
   "id": "35e3d839",
   "metadata": {},
   "outputs": [
    {
     "data": {
      "image/png": "[encoded data removed]",
      "text/plain": [
       "<Figure size 640x480 with 1 Axes>"
      ]
     },
     "metadata": {},
     "output_type": "display_data"
    }
   ],
   "source": [
    "plt.hist(df3[\"price_per_sqft\"], bins=20, rwidth=0.8 )\n",
    "plt.xlabel('Price per square ft')\n",
    "plt.ylabel('Count')\n",
    "plt.show()"
   ]
  },
  {
   "cell_type": "code",
   "execution_count": 12,
   "id": "23917524",
   "metadata": {},
   "outputs": [
    {
     "data": {
      "text/plain": [
       "[<matplotlib.lines.Line2D at 0x7facd31ba310>]"
      ]
     },
     "execution_count": 12,
     "metadata": {},
     "output_type": "execute_result"
    },
    {
     "data": {
      "image/png": "[encoded data removed]",
      "text/plain": [
       "<Figure size 640x480 with 1 Axes>"
      ]
     },
     "metadata": {},
     "output_type": "display_data"
    }
   ],
   "source": [
    "from scipy.stats import norm\n",
    "import numpy as np\n",
    "\n",
    "mean = df3[\"price_per_sqft\"].mean()\n",
    "std = df3[\"price_per_sqft\"].std()\n",
    "\n",
    "plt.hist(df3[\"price_per_sqft\"], bins=20, rwidth=0.8, density=True)\n",
    "plt.xlabel('Height (inches)')\n",
    "plt.ylabel('Count')\n",
    "\n",
    "rng = np.arange(-5000, df3[\"price_per_sqft\"].max(), 100)\n",
    "norm_distribution = norm.pdf(rng, mean, std)\n",
    "plt.plot(rng, norm_distribution)"
   ]
  },
  {
   "attachments": {},
   "cell_type": "markdown",
   "id": "632105d0",
   "metadata": {},
   "source": [
    "The graph shows that there's no outliers"
   ]
  },
  {
   "attachments": {},
   "cell_type": "markdown",
   "id": "4250821d",
   "metadata": {},
   "source": [
    "Z Score Method"
   ]
  },
  {
   "cell_type": "code",
   "execution_count": 13,
   "id": "0e172644",
   "metadata": {},
   "outputs": [
    {
     "name": "stderr",
     "output_type": "stream",
     "text": [
      "/var/folders/hg/n24r9jj93w7fwkd71c03mj9h0000gn/T/ipykernel_2600/1168016076.py:1: SettingWithCopyWarning: \n",
      "A value is trying to be set on a copy of a slice from a DataFrame.\n",
      "Try using .loc[row_indexer,col_indexer] = value instead\n",
      "\n",
      "See the caveats in the documentation: https://pandas.pydata.org/pandas-docs/stable/user_guide/indexing.html#returning-a-view-versus-a-copy\n",
      "  df2[\"z_score\"] = (df2['price_per_sqft'] - mean) / std\n"
     ]
    },
    {
     "data": {
      "text/plain": [
       "((13172, 8), (12961, 8), 211)"
      ]
     },
     "execution_count": 13,
     "metadata": {},
     "output_type": "execute_result"
    }
   ],
   "source": [
    "df2[\"z_score\"] = (df2['price_per_sqft'] - mean) / std\n",
    "df4 = df2[df2[\"z_score\"].between(-4, 4)]\n",
    "df2.shape, df4.shape, df2.shape[0]-df4.shape[0]"
   ]
  },
  {
   "attachments": {},
   "cell_type": "markdown",
   "id": "cf350df2",
   "metadata": {},
   "source": [
    "Same output as Standard Deviation method but more convenient"
   ]
  },
  {
   "attachments": {},
   "cell_type": "markdown",
   "id": "162bd519",
   "metadata": {},
   "source": [
    "You are given height_weight.csv file which contains heights and weights of 1000 people.\n",
    "You need to do this.\n",
    "1. Load this csv in pandas dataframe and first plot histograms for height and weight parameters\n",
    "2. Using IQR detect weight outliers and print them\n",
    "3. Using IQR, detect height outliers and print them"
   ]
  },
  {
   "cell_type": "code",
   "execution_count": 14,
   "id": "4e3c6447",
   "metadata": {},
   "outputs": [
    {
     "data": {
      "text/plain": [
       "(  Gender     Height      Weight\n",
       " 0   Male  73.847017  241.893563\n",
       " 1   Male  68.781904  162.310473\n",
       " 2   Male  74.110105  212.740856\n",
       " 3   Male  71.730978  220.042470\n",
       " 4   Male  69.881796  206.349801,\n",
       "              Height        Weight\n",
       " count  10000.000000  10000.000000\n",
       " mean      66.367560    161.440357\n",
       " std        3.847528     32.108439\n",
       " min       54.263133     64.700127\n",
       " 25%       63.505620    135.818051\n",
       " 50%       66.318070    161.212928\n",
       " 75%       69.174262    187.169525\n",
       " max       78.998742    269.989699)"
      ]
     },
     "execution_count": 14,
     "metadata": {},
     "output_type": "execute_result"
    }
   ],
   "source": [
    "import pandas as pd\n",
    "import matplotlib.pyplot as plt\n",
    "df1 = pd.read_csv(\"weight-height.csv\")\n",
    "df1.head(), df1.describe()"
   ]
  },
  {
   "cell_type": "code",
   "execution_count": 19,
   "id": "f377d548",
   "metadata": {},
   "outputs": [
    {
     "data": {
      "image/png": "[encoded data removed]",
      "text/plain": [
       "<Figure size 640x480 with 1 Axes>"
      ]
     },
     "metadata": {},
     "output_type": "display_data"
    }
   ],
   "source": [
    "plt.hist(df1[\"Height\"], bins=20, rwidth=0.8)\n",
    "plt.xlabel(\"Height\")\n",
    "plt.ylabel(\"Count\")\n",
    "plt.show()"
   ]
  },
  {
   "cell_type": "code",
   "execution_count": 20,
   "id": "d2f63e6f",
   "metadata": {},
   "outputs": [
    {
     "data": {
      "image/png": "[encoded data removed]",
      "text/plain": [
       "<Figure size 640x480 with 1 Axes>"
      ]
     },
     "metadata": {},
     "output_type": "display_data"
    }
   ],
   "source": [
    "plt.hist(df1[\"Weight\"], bins=20, rwidth=0.8)\n",
    "plt.xlabel(\"Weight\")\n",
    "plt.ylabel(\"Count\")\n",
    "plt.show()"
   ]
  },
  {
   "attachments": {},
   "cell_type": "markdown",
   "id": "661b23a0",
   "metadata": {},
   "source": [
    "IQR Method"
   ]
  },
  {
   "cell_type": "code",
   "execution_count": 22,
   "id": "763f1299",
   "metadata": {},
   "outputs": [
    {
     "data": {
      "text/html": [
       "<div>\n",
       "<style scoped>\n",
       "    .dataframe tbody tr th:only-of-type {\n",
       "        vertical-align: middle;\n",
       "    }\n",
       "\n",
       "    .dataframe tbody tr th {\n",
       "        vertical-align: top;\n",
       "    }\n",
       "\n",
       "    .dataframe thead th {\n",
       "        text-align: right;\n",
       "    }\n",
       "</style>\n",
       "<table border=\"1\" class=\"dataframe\">\n",
       "  <thead>\n",
       "    <tr style=\"text-align: right;\">\n",
       "      <th></th>\n",
       "      <th>Gender</th>\n",
       "      <th>Height</th>\n",
       "      <th>Weight</th>\n",
       "    </tr>\n",
       "  </thead>\n",
       "  <tbody>\n",
       "    <tr>\n",
       "      <th>2014</th>\n",
       "      <td>Male</td>\n",
       "      <td>78.998742</td>\n",
       "      <td>269.989699</td>\n",
       "    </tr>\n",
       "  </tbody>\n",
       "</table>\n",
       "</div>"
      ],
      "text/plain": [
       "     Gender     Height      Weight\n",
       "2014   Male  78.998742  269.989699"
      ]
     },
     "execution_count": 22,
     "metadata": {},
     "output_type": "execute_result"
    }
   ],
   "source": [
    "Q1 = df1[\"Weight\"].quantile(0.25)\n",
    "Q3 = df1[\"Weight\"].quantile(0.75)\n",
    "IQR = Q3-Q1\n",
    "min_limit = Q1 - 1.5*IQR\n",
    "max_limit = Q3 + 1.5*IQR\n",
    "df1[(df1[\"Weight\"]>max_limit) | (df1[\"Weight\"]<min_limit)]"
   ]
  },
  {
   "cell_type": "code",
   "execution_count": 23,
   "id": "28f6f11e",
   "metadata": {},
   "outputs": [
    {
     "data": {
      "text/html": [
       "<div>\n",
       "<style scoped>\n",
       "    .dataframe tbody tr th:only-of-type {\n",
       "        vertical-align: middle;\n",
       "    }\n",
       "\n",
       "    .dataframe tbody tr th {\n",
       "        vertical-align: top;\n",
       "    }\n",
       "\n",
       "    .dataframe thead th {\n",
       "        text-align: right;\n",
       "    }\n",
       "</style>\n",
       "<table border=\"1\" class=\"dataframe\">\n",
       "  <thead>\n",
       "    <tr style=\"text-align: right;\">\n",
       "      <th></th>\n",
       "      <th>Gender</th>\n",
       "      <th>Height</th>\n",
       "      <th>Weight</th>\n",
       "    </tr>\n",
       "  </thead>\n",
       "  <tbody>\n",
       "    <tr>\n",
       "      <th>994</th>\n",
       "      <td>Male</td>\n",
       "      <td>78.095867</td>\n",
       "      <td>255.690835</td>\n",
       "    </tr>\n",
       "    <tr>\n",
       "      <th>1317</th>\n",
       "      <td>Male</td>\n",
       "      <td>78.462053</td>\n",
       "      <td>227.342565</td>\n",
       "    </tr>\n",
       "    <tr>\n",
       "      <th>2014</th>\n",
       "      <td>Male</td>\n",
       "      <td>78.998742</td>\n",
       "      <td>269.989699</td>\n",
       "    </tr>\n",
       "    <tr>\n",
       "      <th>3285</th>\n",
       "      <td>Male</td>\n",
       "      <td>78.528210</td>\n",
       "      <td>253.889004</td>\n",
       "    </tr>\n",
       "    <tr>\n",
       "      <th>3757</th>\n",
       "      <td>Male</td>\n",
       "      <td>78.621374</td>\n",
       "      <td>245.733783</td>\n",
       "    </tr>\n",
       "    <tr>\n",
       "      <th>6624</th>\n",
       "      <td>Female</td>\n",
       "      <td>54.616858</td>\n",
       "      <td>71.393749</td>\n",
       "    </tr>\n",
       "    <tr>\n",
       "      <th>7294</th>\n",
       "      <td>Female</td>\n",
       "      <td>54.873728</td>\n",
       "      <td>78.606670</td>\n",
       "    </tr>\n",
       "    <tr>\n",
       "      <th>9285</th>\n",
       "      <td>Female</td>\n",
       "      <td>54.263133</td>\n",
       "      <td>64.700127</td>\n",
       "    </tr>\n",
       "  </tbody>\n",
       "</table>\n",
       "</div>"
      ],
      "text/plain": [
       "      Gender     Height      Weight\n",
       "994     Male  78.095867  255.690835\n",
       "1317    Male  78.462053  227.342565\n",
       "2014    Male  78.998742  269.989699\n",
       "3285    Male  78.528210  253.889004\n",
       "3757    Male  78.621374  245.733783\n",
       "6624  Female  54.616858   71.393749\n",
       "7294  Female  54.873728   78.606670\n",
       "9285  Female  54.263133   64.700127"
      ]
     },
     "execution_count": 23,
     "metadata": {},
     "output_type": "execute_result"
    }
   ],
   "source": [
    "Q1 = df1[\"Height\"].quantile(0.25)\n",
    "Q3 = df1[\"Height\"].quantile(0.75)\n",
    "IQR = Q3-Q1\n",
    "min_limit = Q1 - 1.5*IQR\n",
    "max_limit = Q3 + 1.5*IQR\n",
    "df1[(df1[\"Height\"]>max_limit) | (df1[\"Height\"]<min_limit)]"
   ]
  }
 ],
 "metadata": {
  "kernelspec": {
   "display_name": "base",
   "language": "python",
   "name": "python3"
  },
  "language_info": {
   "codemirror_mode": {
    "name": "ipython",
    "version": 3
   },
   "file_extension": ".py",
   "mimetype": "text/x-python",
   "name": "python",
   "nbconvert_exporter": "python",
   "pygments_lexer": "ipython3",
   "version": "3.9.13"
  },
  "vscode": {
   "interpreter": {
    "hash": "ff7d574ff54b0f83d103cd6ae016c78af2d72d27cb5ffce6ccc74920cc77be9d"
   }
  }
 },
 "nbformat": 4,
 "nbformat_minor": 5
}
