{
 "cells": [
  {
   "attachments": {},
   "cell_type": "markdown",
   "metadata": {},
   "source": [
    "Find the factorial of a number\n"
   ]
  },
  {
   "cell_type": "code",
   "execution_count": 14,
   "metadata": {},
   "outputs": [],
   "source": [
    "# With Recursion\n",
    "def factorial(number):\n",
    "    assert number >=0 and int(number) == number, \"The number should be a whole number\"\n",
    "    if number == 0:\n",
    "        return 1\n",
    "    else:\n",
    "        return number * factorial(number-1) # Recursion subtracting -1 takes O(n) time complexity and O(n) space complexity\n",
    "# Time Complexity: O(n)\n",
    "# Space Complexity: O(n)\n",
    "\n",
    "#with Iteration\n",
    "def factorial(number):\n",
    "     assert number >=0 and int(number) == number, \"The number should be a whole number\"\n",
    "     factorial = 1\n",
    "     for i in range(2, number+1):  # 2 because multiplying with 1 won't matter\n",
    "        factorial *= i             #  Loops subtracting -1 takes O(n) time complexity and O(1) space complexity\n",
    "     return factorial\n",
    "# Time Complexity: O(n)\n",
    "# Space Complexity: O(1)"
   ]
  },
  {
   "attachments": {},
   "cell_type": "markdown",
   "metadata": {},
   "source": [
    "Find the nth fibonacci number\n"
   ]
  },
  {
   "cell_type": "code",
   "execution_count": 15,
   "metadata": {},
   "outputs": [],
   "source": [
    "def fibo(number):\n",
    "    assert number >= 0 and int(number) == number, \"The number should be a whole number\"\n",
    "    if number in [0, 1]:\n",
    "        return number\n",
    "    else:\n",
    "        return fibo(number-1) + fibo(number-2) # Double Recursion subtracting -1 and -2 takes O(2^n) time complexity and O(n) space complexity\n",
    "# Time Complexity: O(2^n)\n",
    "# Space Complexity: O(n)\n"
   ]
  },
  {
   "attachments": {},
   "cell_type": "markdown",
   "metadata": {},
   "source": [
    "Find the sum of digits of a number\n"
   ]
  },
  {
   "cell_type": "code",
   "execution_count": 16,
   "metadata": {},
   "outputs": [],
   "source": [
    "# With Recursion\n",
    "def sum_of_digits(number):\n",
    "    assert number >=0 and int(number) == number, \"The number should be a whole number\"\n",
    "    if number == 0:\n",
    "        return 0\n",
    "    else:\n",
    "        return number%10 + sum_of_digits(number//10) # Recursion by dividing takes O(log(n)) time complexity and O(n) space complexity\n",
    "# Time Complexity : O(log(n))  # In Computer Science log bases are 2.\n",
    "# Space Complexity: O(n)\n",
    "\n",
    "\n",
    "# With Iteration\n",
    "def sum_of_digits(number):\n",
    "    assert number >=0 and int(number) == number, \"The number should be a whole number\"\n",
    "    sum = 0\n",
    "    while number != 0: # Loops by dividing/modulo takes O(log(n)) time complexity and O(1) space complexity\n",
    "        sum += number % 10\n",
    "        number //= 10\n",
    "    return sum\n",
    "# Time Complexity : O(log(n))\n",
    "# Space Complexity: O(1)\n"
   ]
  },
  {
   "cell_type": "markdown",
   "metadata": {},
   "source": [
    "Find the power of a number"
   ]
  },
  {
   "cell_type": "code",
   "execution_count": 17,
   "metadata": {},
   "outputs": [],
   "source": [
    "# Recursion\n",
    "def power(base, exponent):\n",
    "    assert exponent >=0 and int(exponent) == exponent, \"The number should be a whole number\"\n",
    "    if exponent == 0:\n",
    "        return 1\n",
    "    else:\n",
    "        return base * power(base, exponent-1)\n",
    "# Time Complexity : O(n)\n",
    "# Space Complexity: O(n)\n",
    "\n",
    "\n",
    "# binary exponentiation algorithm\n",
    "def power(base, exponent):\n",
    "    assert exponent >=0 and int(exponent) == exponent, \"The number should be a whole number\"\n",
    "    result = 1\n",
    "    while exponent > 0:\n",
    "        if exponent % 2 == 1:\n",
    "            result *= base\n",
    "        base *= base\n",
    "        exponent = exponent // 2\n",
    "    return result\n",
    "# Time Complexity : O(log(n))\n",
    "# Space Complexity: O(1)"
   ]
  },
  {
   "attachments": {},
   "cell_type": "markdown",
   "metadata": {},
   "source": [
    "Find HCF and LCM of a number"
   ]
  },
  {
   "cell_type": "code",
   "execution_count": 18,
   "metadata": {},
   "outputs": [],
   "source": [
    "# Recursion\n",
    "def HCF(number_1, number_2):\n",
    "    x = max(number_1, number_2)\n",
    "    y = min(number_1, number_2)\n",
    "    if y == 0:\n",
    "        return x\n",
    "    else:\n",
    "        return HCF(y, x%y)\n",
    "# Time Complexity : O(log n) where n = smaller number\n",
    "# Space Complexity: O(n)\n",
    "\n",
    "\n",
    "# Iteration\n",
    "def HCF(number_1, number_2):\n",
    "    \n",
    "    x = max(number_1, number_2)\n",
    "    y = min(number_1, number_2)\n",
    "\n",
    "    while y != 0:\n",
    "        temp = y\n",
    "        y = x % y\n",
    "        x = temp\n",
    "    return x\n",
    "# Time Complexity : O(log n) where n = smaller number\n",
    "# # Space Complexity: O(1)\n",
    "\n",
    "\n",
    "def LCM(number_1, number_2):\n",
    "    return number_1*number_2//HCF(number_1, number_2)\n",
    "# Time Complexity : O(log n) where n = smaller number\n",
    "# # Space Complexity: O(n)\n"
   ]
  },
  {
   "attachments": {},
   "cell_type": "markdown",
   "metadata": {},
   "source": [
    "Convert decimal number to binary and vice versa\n"
   ]
  },
  {
   "cell_type": "code",
   "execution_count": 19,
   "metadata": {},
   "outputs": [],
   "source": [
    "def dec_to_bin(num):\n",
    "    assert int(num) == num, \"The number should be an integer\"    \n",
    "    if num == 0:\n",
    "        return num\n",
    "    else:\n",
    "        return (num%2) + dec_to_bin(num//2)*10 \n",
    "# Time Complexity : O(log(n))\n",
    "# Space Complexity: O(n)\n",
    "\n",
    "\n",
    "def bin_to_dec(num):\n",
    "    if num == 0:\n",
    "        return num\n",
    "    else:\n",
    "        return (num%10) + bin_to_dec(num//10)*2 \n",
    "# Time Complexity : O(log(n))\n",
    "# Space Complexity: O(n)"
   ]
  },
  {
   "attachments": {},
   "cell_type": "markdown",
   "metadata": {},
   "source": [
    "Given an array nums containing n distinct numbers in the range [0, n] return the only number in the range that is missing from the array.\n"
   ]
  },
  {
   "cell_type": "code",
   "execution_count": 20,
   "metadata": {},
   "outputs": [],
   "source": [
    "class Solution:\n",
    "    def missingNumber(self, lst):\n",
    "        total_is = sum(lst) # Sum has O(n) time complexity and O(1) space complexity\n",
    "        N = max(lst)\n",
    "        total_should_be = N*(N+1)//2\n",
    "        missing_number = total_should_be - total_is\n",
    "        if missing_number:\n",
    "            return missing_number\n",
    "        elif 0 not in lst:\n",
    "            return 0\n",
    "        else:\n",
    "            return N + 1\n",
    "# Time Complexity : O(n)\n",
    "# Space Complexity: O(1)"
   ]
  },
  {
   "attachments": {},
   "cell_type": "markdown",
   "metadata": {},
   "source": [
    "Given an array of integers nums and an integer target, return indices of the two numbers such that they add up to target.\n",
    "You may assume that each input would have exactly one solution, and you may not use the same element twice.\n",
    "You can return the answer in any order."
   ]
  },
  {
   "cell_type": "code",
   "execution_count": 21,
   "metadata": {},
   "outputs": [],
   "source": [
    "\n",
    "\n",
    "class Solution:\n",
    "    def twoSum(self, num_list, target):\n",
    "        for i in range(len(num_list)): # Nested loop has O(n^2) time complexity and  O(1) space complexity\n",
    "            for j in range(i+1, len(num_list)):\n",
    "                if num_list[i] + num_list[j] == target:\n",
    "                    return [i, j]\n",
    "# Time complexity: O(n^2)\n",
    "# Space Complexity: O(1)\n",
    "\n"
   ]
  },
  {
   "attachments": {},
   "cell_type": "markdown",
   "metadata": {},
   "source": [
    "Given an array nums containing n distinct numbers, find the target number without builtin methods\n"
   ]
  },
  {
   "cell_type": "code",
   "execution_count": 22,
   "metadata": {},
   "outputs": [],
   "source": [
    "class Solution:\n",
    "    def findNumber(self,lst,target):\n",
    "        for i in range(len(lst)):\n",
    "            if lst[i] == target:\n",
    "                return i\n",
    "        return -1\n",
    "# Time complexity: O(n)\n",
    "# Space Complexity: O(1)\n"
   ]
  },
  {
   "attachments": {},
   "cell_type": "markdown",
   "metadata": {},
   "source": [
    "Given an integer array nums, find the largest product.\n",
    "Assume that all nums are positive\n",
    "Don't use any inbuilt methods"
   ]
  },
  {
   "cell_type": "code",
   "execution_count": 23,
   "metadata": {},
   "outputs": [],
   "source": [
    "class Solution:\n",
    "    def maxProduct(self, nums):\n",
    "        maxProduct = 0\n",
    "        for i in range(len(nums)): \n",
    "            for j in range(i+1, len(nums)):\n",
    "                product = nums[i]*nums[j]\n",
    "                if product > maxProduct:\n",
    "                    maxProduct = product\n",
    "        return maxProduct\n",
    "# Time complexity: O(n^2)\n",
    "# Space Complexity: O(1)\n"
   ]
  },
  {
   "attachments": {},
   "cell_type": "markdown",
   "metadata": {},
   "source": [
    "Given an integer array nums, return true if any value appears at least twice in the array, and return false if every element is distinct.\n"
   ]
  },
  {
   "cell_type": "code",
   "execution_count": 29,
   "metadata": {},
   "outputs": [],
   "source": [
    "class Solution:\n",
    "    def containsDuplicate(self, nums):\n",
    "        set1 = set() # Creating an empty set/tuple/list takes O(1) time complexity and O(n) space complexity\n",
    "        for i in nums:\n",
    "                if i in set1: # Looking for an element in set is O(1) wheras in list is O(n)\n",
    "                    return True\n",
    "                else:\n",
    "                    set1.add(i)\n",
    "        return False\n",
    "# Time complexity: O(n)\n",
    "# Space Complexity: O(n)"
   ]
  },
  {
   "attachments": {},
   "cell_type": "markdown",
   "metadata": {},
   "source": [
    "Given two arrays, return true if one is permutation of another\n"
   ]
  },
  {
   "cell_type": "code",
   "execution_count": 30,
   "metadata": {},
   "outputs": [],
   "source": [
    "class Solution:\n",
    "    def isPermutation(self, list1, list2):\n",
    "        set1 = set(list1) # Conveting to set/tuple or vice versa takes O(n) time complexity and O(n) space complexity\n",
    "        set2 = set(list2)\n",
    "        return set1 == set2\n",
    "# Time complexity: O(n)\n",
    "# Space Complexity: O(n)\n",
    "\n",
    "class Solution:\n",
    "    def isPermutation(self, list1, list2):\n",
    "        list1.sort() # Sort takes O(nlogn) time complexity and O(n) space complexity\n",
    "        list2.sort()\n",
    "        return list1 == list2\n",
    "# Time complexity: O(nlogn)\n",
    "# Space Complexity: O(n) \n"
   ]
  },
  {
   "attachments": {},
   "cell_type": "markdown",
   "metadata": {},
   "source": [
    "You are given an n x n 2D matrix representing an image, rotate the image by 90 degrees (clockwise).\n",
    "You have to rotate the image in-place, which means you have to modify the input 2D matrix directly.\n",
    "DO NOT allocate another 2D matrix and do the rotation."
   ]
  },
  {
   "cell_type": "code",
   "execution_count": 28,
   "metadata": {},
   "outputs": [],
   "source": [
    "class Solution:\n",
    "    def rotate(self, matrix):\n",
    "        n = len(matrix)\n",
    "        for layer in range(n//2):\n",
    "            first = layer\n",
    "            last = n - 1 - layer  \n",
    "            for i in range(first, last):\n",
    "                # save top layer\n",
    "                top = matrix[layer][i]\n",
    "                # left to top\n",
    "                matrix[layer][i] = matrix[-i-1][layer]\n",
    "                # bottom to left\n",
    "                matrix[-i-1][layer] = matrix[-layer-1][-i-1]\n",
    "                # right to bottom\n",
    "                matrix[-layer-1][-i-1] = matrix[i][-layer-1]\n",
    "                # top to right\n",
    "                matrix[i][-layer-1] = top\n",
    "# Time complexity: O(n^2)\n",
    "# Space Complexity: O(1) \n"
   ]
  }
 ],
 "metadata": {
  "kernelspec": {
   "display_name": "Python 3",
   "language": "python",
   "name": "python3"
  },
  "language_info": {
   "codemirror_mode": {
    "name": "ipython",
    "version": 3
   },
   "file_extension": ".py",
   "mimetype": "text/x-python",
   "name": "python",
   "nbconvert_exporter": "python",
   "pygments_lexer": "ipython3",
   "version": "3.11.1"
  },
  "orig_nbformat": 4,
  "vscode": {
   "interpreter": {
    "hash": "aee8b7b246df8f9039afb4144a1f6fd8d2ca17a180786b69acc140d282b71a49"
   }
  }
 },
 "nbformat": 4,
 "nbformat_minor": 2
}
